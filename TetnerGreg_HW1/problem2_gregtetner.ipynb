{
 "cells": [
  {
   "cell_type": "raw",
   "metadata": {},
   "source": [
    "# PHYS 331 - Numerical Techniques for the Sciences I \n",
    "\n",
    "## Homework 1: Python Introduction\n",
    "\n",
    "### Problem 2 - Functions and Control Flow in Python (7 points)\n",
    "\n",
    "Name: Greg Tetner\n",
    "\n",
    "Onyen: tetner\n",
    "\n",
    "Cell for *Problem 2* is below."
   ]
  },
  {
   "cell_type": "code",
   "execution_count": 3,
   "metadata": {},
   "outputs": [
    {
     "name": "stdout",
     "output_type": "stream",
     "text": [
      "-4.5\n"
     ]
    }
   ],
   "source": [
    "# ??? A solution is required here. ???\n",
    "# Be sure to import the math module and define your function\n",
    "# and return value according the the directions.\n",
    "import math\n",
    "\n",
    "\n",
    "# factorial helper function\n",
    "def factorial(n):\n",
    "  if n == 0:\n",
    "    return 1\n",
    "  else:\n",
    "    return n * factorial(n - 1)\n",
    "\n",
    "def taylor_sinx(x0, n):\n",
    "    \n",
    "    # makes sure number is positive\n",
    "    if n < 0:\n",
    "        raise ValueError(\"n must be a non-negative integer\")\n",
    "    \n",
    "    # checking if number is even via modular division (if the remainder after divinding by 2 is 0, it's even)\n",
    "    if (n % 2 == 0 or n == 0):\n",
    "        term = 0 \n",
    "        return term\n",
    "    \n",
    "    # Reassigning the n value to work with the mathematical formula of Taylor series when finding the nth order term\n",
    "    n = (n-1)/2\n",
    "    \n",
    "    term = ((-1)**(n) * x0**(2*n+1)) / (factorial(2*n+1))\n",
    "    \n",
    "    return term\n",
    "\n",
    "print(taylor_sinx(3, 3))"
   ]
  }
 ],
 "metadata": {
  "anaconda-cloud": {},
  "kernelspec": {
   "display_name": "Python 3 (ipykernel)",
   "language": "python",
   "name": "python3"
  },
  "language_info": {
   "codemirror_mode": {
    "name": "ipython",
    "version": 3
   },
   "file_extension": ".py",
   "mimetype": "text/x-python",
   "name": "python",
   "nbconvert_exporter": "python",
   "pygments_lexer": "ipython3",
   "version": "3.9.0"
  }
 },
 "nbformat": 4,
 "nbformat_minor": 1
}
