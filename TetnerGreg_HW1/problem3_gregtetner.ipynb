{
 "cells": [
  {
   "cell_type": "raw",
   "metadata": {},
   "source": [
    "# PHYS 331 - Numerical Techniques for the Sciences I ",
    "\n",
    "## Homework 1: Python Introduction\n",
    "\n",
    "### Problem 3 - Recursive Functions (10 points)\n",
    "\n",
    "Name: Greg Tetner\n",
    "\n",
    "Onyen: tetner\n",
    "\n",
    "Response for *Problem 4(a)*: \n",
    "\n",
    "An appropriate base case would be when n=0, n=1, and n=2\n",
    "\n",
    "Cell for *Problem 4(b)* appears below."
   ]
  },
  {
   "cell_type": "code",
   "execution_count": 8,
   "metadata": {},
   "outputs": [
    {
     "name": "stdout",
     "output_type": "stream",
     "text": [
      "Enter the value of n: 33\n",
      "The 33th term of the Fibonacci sequence is: 2178309\n"
     ]
    }
   ],
   "source": [
    "def fib(n):\n",
    "    if n <= 0:\n",
    "        return None\n",
    "    elif n == 1:\n",
    "        return 0\n",
    "    elif n == 2:\n",
    "        return 1\n",
    "    \n",
    "    prev_term = 0\n",
    "    curr_term = 1\n",
    "    count = 2  # We've already calculated the 0th and 1st terms\n",
    "    \n",
    "    while count < n:\n",
    "        next_term = prev_term + curr_term\n",
    "        prev_term = curr_term\n",
    "        curr_term = next_term\n",
    "        count += 1\n",
    "    \n",
    "    return curr_term\n",
    "\n",
    "n = int(input(\"Enter the value of n: \"))\n",
    "result = fib(n)\n",
    "if result is not None:\n",
    "    print(f\"The {n}th term of the Fibonacci sequence is: {result}\")\n",
    "else:\n",
    "    print(\"Invalid input. n should be a positive integer.\")"
   ]
  },
  {
   "cell_type": "markdown",
   "metadata": {},
   "source": [
    "Cell for *Problem 4(c)* appears below."
   ]
  },
  {
   "cell_type": "code",
   "execution_count": 5,
   "metadata": {},
   "outputs": [
    {
     "name": "stdout",
     "output_type": "stream",
     "text": [
      "Enter the value of n: 33\n",
      "The 33th term of the Fibonacci sequence is: 2178309\n"
     ]
    }
   ],
   "source": [
    "def fib_r(n):\n",
    "    if (n == 1 or n == 0):\n",
    "        return n\n",
    "    return fib_r(n-1) + fib_r(n-2)\n",
    "\n",
    "n = int(input(\"Enter the value of n: \"))\n",
    "result = fibonacci_nth_term(n)\n",
    "\n",
    "if result is not None:\n",
    "    print(f\"The {n}th term of the Fibonacci sequence is: {result}\")\n",
    "else:\n",
    "    print(\"Invalid input. n should be a positive integer.\")\n"
   ]
  }
 ],
 "metadata": {
  "anaconda-cloud": {},
  "kernelspec": {
   "display_name": "Python 3 (ipykernel)",
   "language": "python",
   "name": "python3"
  },
  "language_info": {
   "codemirror_mode": {
    "name": "ipython",
    "version": 3
   },
   "file_extension": ".py",
   "mimetype": "text/x-python",
   "name": "python",
   "nbconvert_exporter": "python",
   "pygments_lexer": "ipython3",
   "version": "3.9.7"
  }
 },
 "nbformat": 4,
 "nbformat_minor": 1
}
