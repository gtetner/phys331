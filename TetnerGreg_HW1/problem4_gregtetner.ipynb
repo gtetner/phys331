{
 "cells": [
  {
   "cell_type": "markdown",
   "metadata": {},
   "source": [
    "# PHYS 331 - Numerical Techniques for the Sciences I ",
    "\n",
    "## Homework 1: Python Introduction\n",
    "\n",
    "### Problem 4 - Small linear systems (10 points)\n",
    "\n",
    "Name: Greg Tetner\n",
    "\n",
    "Onyen: tetner\n",
    "\n",
    "Cell for *Problem 5(a)* appears below."
   ]
  },
  {
   "cell_type": "code",
   "execution_count": 1,
   "metadata": {},
   "outputs": [
    {
     "name": "stdout",
     "output_type": "stream",
     "text": [
      "Error: Unable to solve the linear system.\n"
     ]
    }
   ],
   "source": [
    "import numpy as np\n",
    "\n",
    "def calc_determinant_of_2x2(matrix):\n",
    "    determinant = (matrix[0, 0] * matrix[1, 1] - matrix[0, 1] * matrix[1,  0])\n",
    "    \n",
    "    \n",
    "    if abs(determinant) < 1e-6:\n",
    "        return None\n",
    "\n",
    "    return determinant\n",
    "    \n",
    "\n",
    "def LinearSolve2(a, b, c, d, y1, y2):\n",
    "    \n",
    "    #I'm using the standard form of matricies Ax = b to represent my different matricies\n",
    "    \n",
    "    coeff_matrix = np.array([[a, b], [c,d]])\n",
    "    \n",
    "    x1_matrix = np.array([[y1, b], [y2, d]])\n",
    "    \n",
    "    x2_matrix = np.array([[a, y1], [c, y2]])\n",
    "    \n",
    "    deter_of_x1 = calc_determinant_of_2x2(x1_matrix)\n",
    "    \n",
    "    deter_of_x2 = calc_determinant_of_2x2(x2_matrix)\n",
    "    \n",
    "    deter_of_coeff_matrix = calc_determinant_of_2x2(coeff_matrix)\n",
    "    \n",
    "    \n",
    "    if deter_of_x1 is None or deter_of_x2 is None or deter_of_coeff_matrix is None:\n",
    "        return None\n",
    "    \n",
    "    \n",
    "    x1 = deter_of_x1 / deter_of_coeff_matrix\n",
    "    \n",
    "    x2 = deter_of_x2 / deter_of_coeff_matrix\n",
    "    \n",
    "    return x1, x2\n",
    " \n",
    "\n",
    "a = 2\n",
    "b = 10\n",
    "c = 1\n",
    "d = 5\n",
    "y1 = 6\n",
    "y2 = 7\n",
    "\n",
    "result = LinearSolve2(a,b,c,d,y1,y2)\n",
    "\n",
    "if result is not None:\n",
    "    print(\"Solution:\", result)\n",
    "else:\n",
    "    print(\"Error: Unable to solve the linear system.\")\n"
   ]
  },
  {
   "cell_type": "markdown",
   "metadata": {},
   "source": [
    "Cell for *Problem 5(b)* appears below."
   ]
  },
  {
   "cell_type": "code",
   "execution_count": 2,
   "metadata": {},
   "outputs": [
    {
     "name": "stdout",
     "output_type": "stream",
     "text": [
      "Solution: (1.0, 2.0, 3.0)\n"
     ]
    }
   ],
   "source": [
    "import numpy as np\n",
    "\n",
    "def calc_determinant_of_3x3(matrix):\n",
    "    \n",
    "    sub_matrix_1 = np.array([[matrix[1,1], matrix[1, 2]], [matrix[2,1], matrix[2,2]]])\n",
    "\n",
    "    sub_matrix_2 = np.array([[matrix[1,0], matrix[1, 2]], [matrix[2,0], matrix[2,2]]])\n",
    " \n",
    "    sub_matrix_3 = np.array([[matrix[1,0], matrix[1, 1]], [matrix[2,0], matrix[2,1]]])\n",
    "  \n",
    "    deter_of_sub_1 = calc_determinant_of_2x2(sub_matrix_1)\n",
    "\n",
    "    deter_of_sub_2 = calc_determinant_of_2x2(sub_matrix_2)\n",
    "    \n",
    "    deter_of_sub_3 = calc_determinant_of_2x2(sub_matrix_3)\n",
    "    \n",
    "    final_determinant = (matrix[0][0] * deter_of_sub_1) - (matrix[0][1] * deter_of_sub_2) + (matrix[0][2] * deter_of_sub_3)\n",
    "    \n",
    "    \n",
    "    if abs(final_determinant) < 1e-6:\n",
    "        return None\n",
    "\n",
    "    return final_determinant\n",
    " \n",
    "     \n",
    "    \n",
    "def calc_determinant_of_2x2(matrix):\n",
    "    determinant = (matrix[0, 0] * matrix[1, 1] - matrix[0, 1] * matrix[1,  0]) \n",
    "    return determinant\n",
    "\n",
    "\n",
    "def LinearSolve3(a,b,c,d,e,f,g,h,i,y1,y2,y3):\n",
    "    # ??? A solution is required here. ???\n",
    "    # Be sure to include appropriate return staements.\n",
    "    \n",
    "    #Extract the coefficient matrix, X-matrix, Y-matrix, and Z-matrix \n",
    "    coeff_matrix = np.array([[a, b, c], [d, e, f], [g, h, i]])\n",
    "    \n",
    "    x_matrix = np.array([[y1, b, c], [y2, e, f], [y3, h, i]]) \n",
    "    \n",
    "    y_matrix = np.array([[a, y1, c], [d, y2, f], [g, y3, i]])\n",
    "    \n",
    "    z_matrix = np.array([[a, b, y1], [d, e, y2], [g, h, y3]])\n",
    "    \n",
    "    #pass matricies to the determinant function\n",
    "    determinant_of_coeff_matrix = calc_determinant_of_3x3(coeff_matrix)\n",
    "    determinant_of_x = calc_determinant_of_3x3(x_matrix)\n",
    "    determinant_of_y = calc_determinant_of_3x3(y_matrix)\n",
    "    determinant_of_z = calc_determinant_of_3x3(z_matrix)\n",
    "\n",
    "    \n",
    "    #Finally, calculate the values of each of the variables\n",
    "    x = determinant_of_x / determinant_of_coeff_matrix\n",
    "    \n",
    "    y = determinant_of_y / determinant_of_coeff_matrix\n",
    "    \n",
    "    z = determinant_of_z / determinant_of_coeff_matrix\n",
    "    \n",
    "    return x, y, z\n",
    "\n",
    "a = 2\n",
    "b = 3\n",
    "c = -4\n",
    "d = 3\n",
    "e = -2\n",
    "f = 5\n",
    "g = 5\n",
    "h = 1\n",
    "i = -3\n",
    "y1 = -4\n",
    "y2 = 14\n",
    "y3 = -2\n",
    "    \n",
    "result = LinearSolve3(a,b,c,d,e,f,g,h,i,y1,y2,y3)\n",
    "\n",
    "if result is not None:\n",
    "    print(\"Solution:\", result)\n",
    "else:\n",
    "    print(\"Error: Unable to solve the linear system.\")\n",
    " \n",
    "    "
   ]
  },
  {
   "cell_type": "code",
   "execution_count": null,
   "metadata": {},
   "outputs": [],
   "source": [
    "\n"
   ]
  }
 ],
 "metadata": {
  "anaconda-cloud": {},
  "kernelspec": {
   "display_name": "Python 3 (ipykernel)",
   "language": "python",
   "name": "python3"
  },
  "language_info": {
   "codemirror_mode": {
    "name": "ipython",
    "version": 3
   },
   "file_extension": ".py",
   "mimetype": "text/x-python",
   "name": "python",
   "nbconvert_exporter": "python",
   "pygments_lexer": "ipython3",
   "version": "3.9.7"
  }
 },
 "nbformat": 4,
 "nbformat_minor": 1
}
