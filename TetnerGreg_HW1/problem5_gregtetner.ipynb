{
 "cells": [
  {
   "cell_type": "markdown",
   "metadata": {},
   "source": [
    "# PHYS 331 - Numerical Techniques for the Sciences I ",
    "\n",
    "## Homework 1: Python Introduction\n",
    "\n",
    "### Problem 5 - Random Numbers, Lists, and Masking (10 points)\n",
    "\n",
    "Name: Greg Tetner  \n",
    "\n",
    "Onyen: tetner  \n",
    "\n",
    "Cell for *Problem 5(a)* is below."
   ]
  },
  {
   "cell_type": "code",
   "execution_count": 1,
   "metadata": {},
   "outputs": [
    {
     "name": "stdout",
     "output_type": "stream",
     "text": [
      "[2, 4, 6, 8, 10]\n"
     ]
    }
   ],
   "source": [
    "# Generates a mask which determines whether the elements of\n",
    "# a list are divisible by an integer i.\n",
    "#\n",
    "# Note this should only be done with Python lists!\n",
    "#\n",
    "# PARAMETERS:\n",
    "#   lst - A Python list of integers.\n",
    "#   i   - An integer.\n",
    "#\n",
    "# RETURN VALUE:\n",
    "#  A Python list of integers which is either 0 or 1; a\n",
    "#  value of 1 indicates that the corresponding element of\n",
    "#  the list is divisible by i, 0 indicates otherwise.\n",
    "\n",
    "def maskn(lst, i):\n",
    "    mask: list[int] = []\n",
    "        \n",
    "    for num in lst:\n",
    "        if num % i == 0:\n",
    "            mask.append(num)\n",
    "    \n",
    "    # ??? A solution is required here ???\n",
    "    return mask\n",
    "\n",
    "print(maskn([2,4,6,8,10,1,3,5,7,9], 2))"
   ]
  },
  {
   "cell_type": "markdown",
   "metadata": {},
   "source": [
    "Cell for Problem 5(b) is below"
   ]
  },
  {
   "cell_type": "code",
   "execution_count": 2,
   "metadata": {},
   "outputs": [
    {
     "name": "stdout",
     "output_type": "stream",
     "text": [
      "[False  True False  True False]\n"
     ]
    }
   ],
   "source": [
    "# Generates a mask which determines whether the elements of\n",
    "# a NumPy array are divisible by an integer i.\n",
    "#\n",
    "# Note this should only be done with NumPy arrays!  See if you can write the function in one line!\n",
    "#\n",
    "# PARAMETERS:\n",
    "#   ary - A NumPy array of integers.\n",
    "#   i   - An integer.\n",
    "#\n",
    "# RETURN VALUE:\n",
    "#  A NumPy array of booleans which are either True or False\n",
    "import numpy as np\n",
    "\n",
    "def maskn_array(ary, i):\n",
    "    mask_numpy = np.where(ary % i == 0, True, False)\n",
    "    return mask_numpy\n",
    "\n",
    "array = np.array([1, 2, 3, 4, 5])\n",
    "print(maskn_array(array, 2))"
   ]
  },
  {
   "cell_type": "markdown",
   "metadata": {},
   "source": [
    "Cells for Problem 5(c) is below"
   ]
  },
  {
   "cell_type": "code",
   "execution_count": 3,
   "metadata": {},
   "outputs": [],
   "source": [
    "## Define your list of integers from 0-10000 here\n",
    "list_of_ints = list(range(10001))\n",
    "\n",
    "## And define your NumPy array of integers from 0-10000 here\n",
    "list_of_numpy_ints = np.arange(10001)"
   ]
  },
  {
   "cell_type": "code",
   "execution_count": 4,
   "metadata": {},
   "outputs": [
    {
     "name": "stdout",
     "output_type": "stream",
     "text": [
      "691 µs ± 4.4 µs per loop (mean ± std. dev. of 7 runs, 1,000 loops each)\n"
     ]
    }
   ],
   "source": [
    "# Time your Python-only function (maskn) here\n",
    "\n",
    "%timeit maskn(list_of_ints, 2)"
   ]
  },
  {
   "cell_type": "code",
   "execution_count": 5,
   "metadata": {},
   "outputs": [
    {
     "name": "stdout",
     "output_type": "stream",
     "text": [
      "63.1 µs ± 616 ns per loop (mean ± std. dev. of 7 runs, 10,000 loops each)\n"
     ]
    }
   ],
   "source": [
    "# Time your NumPy-only function (maskn_array) here\n",
    "\n",
    "%timeit maskn_array(list_of_numpy_ints, 2)\n"
   ]
  },
  {
   "cell_type": "markdown",
   "metadata": {},
   "source": [
    "I expected the numpy version to be faster because it is specifically built for numerical computing. It uses specialized algorithms and data structures optimized for this task. "
   ]
  }
 ],
 "metadata": {
  "anaconda-cloud": {},
  "kernelspec": {
   "display_name": "Python 3 (ipykernel)",
   "language": "python",
   "name": "python3"
  },
  "language_info": {
   "codemirror_mode": {
    "name": "ipython",
    "version": 3
   },
   "file_extension": ".py",
   "mimetype": "text/x-python",
   "name": "python",
   "nbconvert_exporter": "python",
   "pygments_lexer": "ipython3",
   "version": "3.9.7"
  }
 },
 "nbformat": 4,
 "nbformat_minor": 1
}
