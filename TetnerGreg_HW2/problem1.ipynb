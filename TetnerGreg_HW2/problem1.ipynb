{
 "cells": [
  {
   "cell_type": "markdown",
   "metadata": {},
   "source": [
    "# PHYS 331 - Numerical Techniques for the Sciences I\n",
    "## Homework 2: Number Representation and Root Finding\n",
    "### Problem 1 - Accumulation of Numerical Error (5 points)\n",
    "---\n",
    "Name: Greg Tetner\n",
    "\n",
    "Onyen: tetner\n",
    "\n",
    "Cell for *Problem 1* is below."
   ]
  },
  {
   "cell_type": "markdown",
   "metadata": {},
   "source": [
    "## Answers\n",
    "\n",
    "### a)\n",
    "\n",
    "If we allow delta to equal zero, we will end up dividing by zero. You will specifically get this error: RuntimeWarning: divide by zero encountered in true_divide\n",
    "  for i in range(0, int(1. / delta)):  # Compute the sum using a for loop.\n",
    "  \n",
    "### b)\n",
    "\n",
    "It looks like all of the values are close to 1, however when our delta gets smaller, the 16 bit basically loses all precision. The 32 bit function starts to lose precision too, but not to the extent that the 16 bit function does. Of course, the 64 bit function performs the best.  \n",
    "\n",
    "### c)\n",
    "\n",
    "Once the delta gets to 1 x 10^-8, the 16 bit can no longer represent it. The highest precision for a 16 bit floating point number is 5.96046 x 10^-8 to 32. But, 32 bit and 64 bit floats can go all the way to 10^-101 and 10^-398 respectively. \n",
    "  \n",
    "  "
   ]
  },
  {
   "cell_type": "code",
   "execution_count": 1,
   "metadata": {},
   "outputs": [
    {
     "name": "stdout",
     "output_type": "stream",
     "text": [
      "This is the value of 0.1 for 16 Bit:  1.0\n",
      "This is the value of 0.1 for 32 Bit:  0.9000001\n",
      "This is the value of 0.1 for 64 Bit:  0.9999999999999999\n",
      "This is the value of 0.01 for 16 Bit:  0.9785\n",
      "This is the value of 0.01 for 32 Bit:  0.99999934\n",
      "This is the value of 0.01 for 64 Bit:  1.0000000000000007\n",
      "This is the value of 0.001 for 16 Bit:  0.9775\n",
      "This is the value of 0.001 for 32 Bit:  0.9989907\n",
      "This is the value of 0.001 for 64 Bit:  1.0000000000000007\n",
      "This is the value of 0.0001 for 16 Bit:  0.25\n",
      "This is the value of 0.0001 for 32 Bit:  1.0000535\n",
      "This is the value of 0.0001 for 64 Bit:  0.9999999999999062\n",
      "This is the value of 1e-05 for 16 Bit:  0.03125\n",
      "This is the value of 1e-05 for 32 Bit:  1.0009902\n",
      "This is the value of 1e-05 for 64 Bit:  0.9999899999980838\n",
      "This is the value of 1e-06 for 16 Bit:  0.003906\n",
      "This is the value of 1e-06 for 32 Bit:  1.0090389\n",
      "This is the value of 1e-06 for 64 Bit:  1.000000000007918\n",
      "This is the value of 1e-07 for 16 Bit:  0.0002441\n",
      "This is the value of 1e-07 for 32 Bit:  1.0647674\n",
      "This is the value of 1e-07 for 64 Bit:  0.99999999975017\n",
      "Error: delta = 0.0 is equal to zero at this precision of 16 bits.\n",
      "This is the value of 1e-08 for 16 Bit:  None\n",
      "This is the value of 1e-08 for 32 Bit:  0.25\n",
      "This is the value of 1e-08 for 64 Bit:  1.0000000022898672\n"
     ]
    }
   ],
   "source": [
    "import numpy as np\n",
    "\n",
    "# YOU DO NOT NEED TO MODIFY THIS FUNCTION.\n",
    "# Computes the value 1.0 by repeatedly adding the 16-bit value delta to a running sum.\n",
    "# PARAMETERS:\n",
    "#     delta - (float) The value to add to the running sum each iteration.\n",
    "# RETURN VALUE: (numpy.float16) The computed sum.\n",
    "def calculateSum_16bit(delta):\n",
    "    sum = np.float16(0.0)\n",
    "    delta = np.float16(delta)  # Convert delta to a 16-bit floating point number.\n",
    "    \n",
    "    if delta == np.float16(0.0):  # If the 16-bit representation is exactly zero, throw an error.\n",
    "        print(\"Error: delta = \" + str(delta) + \" is equal to zero at this precision of 16 bits.\")\n",
    "        return\n",
    "    \n",
    "    for i in range(0, int(1. / delta)):  # Compute the sum using a for loop.\n",
    "        sum += delta\n",
    "        \n",
    "    return sum\n",
    "\n",
    "    \n",
    "# YOU DO NOT NEED TO MODIFY THIS FUNCTION.\n",
    "# Computes the value 1.0 by repeatedly adding the 32-bit value delta to a running sum.\n",
    "# PARAMETERS:\n",
    "#     delta - (float) The value to add to the running sum each iteration.\n",
    "# RETURN VALUE: (numpy.float32) The computed sum.\n",
    "def calculateSum_32bit(delta):\n",
    "    sum = np.float32(0.0)\n",
    "    delta = np.float32(delta)  # Convert delta to a 32-bit floating point number.\n",
    "    \n",
    "    if delta == np.float32(0.0):  # If the 32-bit representation is exactly zero, throw an error.\n",
    "        print(\"Error: delta = \" + str(delta) + \" is equal to zero at this precision of 32 bits.\")\n",
    "        return\n",
    "    \n",
    "    for i in range(0, int(1. / delta)):  # Compute the sum using a for loop.\n",
    "        sum += delta\n",
    "        \n",
    "    return sum\n",
    "\n",
    "\n",
    "# YOU DO NOT NEED TO MODIFY THIS FUNCTION.\n",
    "# Computes the value 1.0 by repeatedly adding the 64-bit value delta to a running sum.\n",
    "# PARAMETERS:\n",
    "#     delta - (float) The value to add to the running sum each iteration.\n",
    "# RETURN VALUE: (numpy.float64) The computed sum.\n",
    "def calculateSum_64bit(delta):\n",
    "    sum = np.float64(0.0)\n",
    "    delta = np.float64(delta)  # Convert delta to a 64-bit floating point number.\n",
    "    \n",
    "    if delta == np.float64(0.0):  # If the 64-bit representation is exactly zero, throw an error.\n",
    "        print(\"Error: delta = \" + str(delta) + \" is equal to zero at this precision of 64 bits.\")\n",
    "        return\n",
    "    \n",
    "    for i in range(0, int(1. / delta)):  # Compute the sum using a for loop.\n",
    "        sum += delta\n",
    "        \n",
    "    return sum\n",
    "\n",
    "def main():\n",
    "    \n",
    "    dels = [10**-1, 10**-2, 10**-3, 10**-4, 10**-5, 10**-6, 10**-7, 10**-8]\n",
    "    \n",
    "    for item in dels:\n",
    "        \n",
    "        print(f\"This is the value of {item} for 16 Bit: \", calculateSum_16bit(item))\n",
    "        print(f\"This is the value of {item} for 32 Bit: \", calculateSum_32bit(item))\n",
    "        print(f\"This is the value of {item} for 64 Bit: \", calculateSum_64bit(item))\n",
    "    \n",
    "    \n",
    "    \n",
    "    # ??? Code to output results from the three functions above for different ???\n",
    "    # ??? values of delta is required here.                                   ???\n",
    "    pass\n",
    "\n",
    "main()\n",
    "    "
   ]
  },
  {
   "cell_type": "markdown",
   "metadata": {},
   "source": []
  },
  {
   "cell_type": "code",
   "execution_count": 2,
   "metadata": {},
   "outputs": [
    {
     "data": {
      "text/plain": [
       "True"
      ]
     },
     "execution_count": 2,
     "metadata": {},
     "output_type": "execute_result"
    }
   ],
   "source": [
    "np.float64(1e-324) == np.float64(0.0)"
   ]
  },
  {
   "cell_type": "code",
   "execution_count": null,
   "metadata": {},
   "outputs": [],
   "source": []
  }
 ],
 "metadata": {
  "anaconda-cloud": {},
  "kernelspec": {
   "display_name": "Python 3 (ipykernel)",
   "language": "python",
   "name": "python3"
  },
  "language_info": {
   "codemirror_mode": {
    "name": "ipython",
    "version": 3
   },
   "file_extension": ".py",
   "mimetype": "text/x-python",
   "name": "python",
   "nbconvert_exporter": "python",
   "pygments_lexer": "ipython3",
   "version": "3.9.7"
  }
 },
 "nbformat": 4,
 "nbformat_minor": 4
}
