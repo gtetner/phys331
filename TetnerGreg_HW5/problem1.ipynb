{
 "cells": [
  {
   "cell_type": "markdown",
   "metadata": {},
   "source": [
    "# PHYS 331 - Numerical Techniques for the Sciences I\n",
    "## Homework 5: Matrix Multiplication and Triangular Systems\n",
    "### Problem 1 -  Matrix-Vector Multiplication (15 points)\n",
    "---\n",
    "Name: Greg Tetner\n",
    "\n",
    "Onyen: tetner\n",
    "\n",
    "Cell for *Problem 1* is below."
   ]
  },
  {
   "cell_type": "code",
   "execution_count": 1,
   "metadata": {},
   "outputs": [
    {
     "name": "stdout",
     "output_type": "stream",
     "text": [
      "The results of both test cases: [20. 47. 74.], [21. 21. 10.]\n"
     ]
    }
   ],
   "source": [
    "import numpy as np\n",
    "\n",
    "def multiplyMatrixVector(M, v):\n",
    "    \"\"\"\n",
    "    Performs a matrix-vector multiplication between matrix M and vector v,\n",
    "    and returns the result.\n",
    "    \n",
    "    PARAMETERS:\n",
    "        M -- A 2-dimensional np.array object which holds elements of the \n",
    "             matrix M.\n",
    "        v -- A 1-dimensional np.array object which holds elements of the\n",
    "             column vector v.\n",
    "             \n",
    "        See the assignment sheet for additional details about these\n",
    "        function parameters.\n",
    "             \n",
    "    RETURNS:\n",
    "        A 1-dimensional np.array object which holds elements of the\n",
    "        product M * v.\n",
    "    \"\"\"\n",
    "    \n",
    "    b = np.zeros(v.size)  # You will need this to initialize the vector b.\n",
    "\n",
    "    \n",
    "    if (M.shape[1] != v.shape[0]):\n",
    "        raise Exception(\"Sorry, but this matrix and vector cannot be multiplied.\")\n",
    "    \n",
    "    else:\n",
    "        for i in range(len(M)):\n",
    "            for j in range(len(v)):\n",
    "                b[i] += M[i][j] * v[j]\n",
    "\n",
    "    # ??? Compute the solution for the product M * v here. ???\n",
    "    \n",
    "    return b\n",
    "    \n",
    "\n",
    "def main():\n",
    "    # ??? Write your two test cases here. ???\n",
    "    \n",
    "    A1 = np.array([[1, 2, 3], [4, 5, 6], [7, 8, 9]])         \n",
    "    v1 = np.array([[2], [3], [4]])\n",
    "    b1 = multiplyMatrixVector(A1, v1)\n",
    "    \n",
    "    A2 = np.array([[7, 0, 2], [-5, 1, 3], [3, 0, 1]])\n",
    "    v2 = np.array([[1], [5], [7]])\n",
    "    b2 = multiplyMatrixVector(A2, v2)\n",
    "    \n",
    "    matrix_size = 100\n",
    "    \n",
    "    \n",
    "    \n",
    "    \n",
    "    print(f\"The results of both test cases: {b1}, {b2}\" )\n",
    "    \n",
    "\n",
    "main()  # Don't delete the call to main() by mistake!"
   ]
  },
  {
   "cell_type": "code",
   "execution_count": null,
   "metadata": {},
   "outputs": [],
   "source": [
    "\n"
   ]
  }
 ],
 "metadata": {
  "anaconda-cloud": {},
  "kernelspec": {
   "display_name": "Python 3 (ipykernel)",
   "language": "python",
   "name": "python3"
  },
  "language_info": {
   "codemirror_mode": {
    "name": "ipython",
    "version": 3
   },
   "file_extension": ".py",
   "mimetype": "text/x-python",
   "name": "python",
   "nbconvert_exporter": "python",
   "pygments_lexer": "ipython3",
   "version": "3.9.7"
  }
 },
 "nbformat": 4,
 "nbformat_minor": 1
}
